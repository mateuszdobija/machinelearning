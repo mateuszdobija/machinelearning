{
 "cells": [
  {
   "cell_type": "markdown",
   "metadata": {},
   "source": [
    "# Clustering\n",
    "\n",
    "In this course we go through clustering methods. It is divided into few parts:\n",
    "1. Distributed clustering (042Clustering_Distributed notebook): \n",
    "    - K-means (HCM)\n",
    "    - Fuzzy clustering (FCM)\n",
    "    - Possibilistic clustering (PCM)\n",
    "2. Density-based clustering (043Clustering_Density notebook)\n",
    "3. Hierarhical clustering (044Clustering_Hierarchical notebook): \n",
    "    - agglomerative\n",
    "    - divisive\n",
    "4. Quality metrics (045Clustering_Quality notebook)\n",
    "5. Use case: Image segmentation (046Clustering_ImageSegmentation notebook)"
   ]
  },
  {
   "cell_type": "markdown",
   "metadata": {},
   "source": [
    "## Idea \n",
    "\n",
    "The goal of clustering is to use unsupervised data set, means data set without labels, and find similarities between objects in this data set, and put the most similar to each other together into a cluster. \n",
    "\n",
    "Let's imagine that we have a data set with only two features (two axis). The objects does not have any label assigned as in the figure below.\n",
    "![](images/clustering.png)\n",
    "\n",
    "The clustering training divided the data set into clusters of similar objects. The number of clusters is parametrized in most methods, but there are methods where instead of cluster number, other parameters needs to be set. Such example are density-based methods.\n",
    "\n",
    "In the figure below, we clustered the data set into two clusters of similar objects.\n",
    "\n",
    "![](images/clustering_done.png)"
   ]
  },
  {
   "cell_type": "markdown",
   "metadata": {},
   "source": [
    "## Data set\n",
    "\n",
    "Let's use the data set as in the table below.\n",
    "\n",
    "|**Aircraft name** | **Distance range (km)** | **Seats count** | **Aircraft type** |\n",
    "|------------------|-------------------------|-----------------|-------------------|\n",
    "| Cesna 510 Mustang| 1940                    |             4   | private jet       |\n",
    "| Falcon 10/100    | 2960                    |             9   | private jet       |\n",
    "| Hawker 900/900XP | 4630                    |             9   | private jet       |\n",
    "| ATR 72-600       | 1528                    |            78   | medium size aircraft|\n",
    "| Bombardier Dash 8 Q400 | 2040              |            90   | medium size aircraft|\n",
    "| Embraer ERJ145 XR| 3700                    |            50   | medium size aircraft|\n",
    "| Boeing 747-8     | 14815                   |           467   | jet airliner      |\n",
    "| A380-800         | 15200                   |           509   | jet airliner      |\n",
    "| Boeing 787-8     | 15700                   |           290   | jet airliner      |\n",
    "| Boeing 737-900ER | 6045                    |           215   | jet airliner      | \n",
    "\n",
    "To plot the libraries matplotlib is used. Numpy is used for easier matrix manipulation. Pandas is used to display the matrices in a nice looking form in Jupyter."
   ]
  },
  {
   "cell_type": "code",
   "execution_count": 1,
   "metadata": {},
   "outputs": [],
   "source": [
    "import matplotlib.pyplot as plt\n",
    "import numpy as np\n",
    "import pandas as pd"
   ]
  },
  {
   "cell_type": "markdown",
   "metadata": {},
   "source": [
    "Now, we are ready to plot:"
   ]
  },
  {
   "cell_type": "code",
   "execution_count": 2,
   "metadata": {},
   "outputs": [
    {
     "data": {
      "image/png": "[encoded data removed]",
      "text/plain": [
       "<Figure size 432x288 with 1 Axes>"
      ]
     },
     "metadata": {
      "needs_background": "light"
     },
     "output_type": "display_data"
    }
   ],
   "source": [
    "X=np.array([(4,1940),(9,2960),(9,4630),(78,1528),(90,2040),(50,3700),(467,14815),(509,15200),(290,15700),(215,6045)])\n",
    "\n",
    "x1 = np.array(X[:,0])\n",
    "x2 = np.array(X[:,1])\n",
    "\n",
    "fig, ax = plt.subplots()\n",
    "ax.scatter(x1,x2)\n",
    "ax.set(xlabel='Seats count', ylabel='Distance range (km)',\n",
    "       title='Aircrafts')\n",
    "ax.grid()\n",
    "plt.show()"
   ]
  },
  {
   "cell_type": "markdown",
   "metadata": {},
   "source": [
    "Before we go to the next step, we need to normalize our dataset:"
   ]
  },
  {
   "cell_type": "code",
   "execution_count": 3,
   "metadata": {},
   "outputs": [],
   "source": [
    "train_data = np.array(X)\n",
    "max_values = train_data.max(0)\n",
    "\n",
    "X_norm = np.divide(train_data,max_values)"
   ]
  },
  {
   "cell_type": "markdown",
   "metadata": {},
   "source": [
    "Now, the data is between 0 and 1:"
   ]
  },
  {
   "cell_type": "code",
   "execution_count": 4,
   "metadata": {},
   "outputs": [
    {
     "data": {
      "text/html": [
       "<div>\n",
       "<style scoped>\n",
       "    .dataframe tbody tr th:only-of-type {\n",
       "        vertical-align: middle;\n",
       "    }\n",
       "\n",
       "    .dataframe tbody tr th {\n",
       "        vertical-align: top;\n",
       "    }\n",
       "\n",
       "    .dataframe thead th {\n",
       "        text-align: right;\n",
       "    }\n",
       "</style>\n",
       "<table border=\"1\" class=\"dataframe\">\n",
       "  <thead>\n",
       "    <tr style=\"text-align: right;\">\n",
       "      <th></th>\n",
       "      <th>Seats count</th>\n",
       "      <th>Distance range (km)</th>\n",
       "    </tr>\n",
       "  </thead>\n",
       "  <tbody>\n",
       "    <tr>\n",
       "      <th>0</th>\n",
       "      <td>0.007859</td>\n",
       "      <td>0.123567</td>\n",
       "    </tr>\n",
       "    <tr>\n",
       "      <th>1</th>\n",
       "      <td>0.017682</td>\n",
       "      <td>0.188535</td>\n",
       "    </tr>\n",
       "    <tr>\n",
       "      <th>2</th>\n",
       "      <td>0.017682</td>\n",
       "      <td>0.294904</td>\n",
       "    </tr>\n",
       "    <tr>\n",
       "      <th>3</th>\n",
       "      <td>0.153242</td>\n",
       "      <td>0.097325</td>\n",
       "    </tr>\n",
       "    <tr>\n",
       "      <th>4</th>\n",
       "      <td>0.176817</td>\n",
       "      <td>0.129936</td>\n",
       "    </tr>\n",
       "    <tr>\n",
       "      <th>5</th>\n",
       "      <td>0.098232</td>\n",
       "      <td>0.235669</td>\n",
       "    </tr>\n",
       "    <tr>\n",
       "      <th>6</th>\n",
       "      <td>0.917485</td>\n",
       "      <td>0.943631</td>\n",
       "    </tr>\n",
       "    <tr>\n",
       "      <th>7</th>\n",
       "      <td>1.000000</td>\n",
       "      <td>0.968153</td>\n",
       "    </tr>\n",
       "    <tr>\n",
       "      <th>8</th>\n",
       "      <td>0.569745</td>\n",
       "      <td>1.000000</td>\n",
       "    </tr>\n",
       "    <tr>\n",
       "      <th>9</th>\n",
       "      <td>0.422397</td>\n",
       "      <td>0.385032</td>\n",
       "    </tr>\n",
       "  </tbody>\n",
       "</table>\n",
       "</div>"
      ],
      "text/plain": [
       "   Seats count  Distance range (km)\n",
       "0     0.007859             0.123567\n",
       "1     0.017682             0.188535\n",
       "2     0.017682             0.294904\n",
       "3     0.153242             0.097325\n",
       "4     0.176817             0.129936\n",
       "5     0.098232             0.235669\n",
       "6     0.917485             0.943631\n",
       "7     1.000000             0.968153\n",
       "8     0.569745             1.000000\n",
       "9     0.422397             0.385032"
      ]
     },
     "execution_count": 4,
     "metadata": {},
     "output_type": "execute_result"
    }
   ],
   "source": [
    "pd.DataFrame(X_norm, columns = ['Seats count','Distance range (km)'])"
   ]
  },
  {
   "cell_type": "code",
   "execution_count": 5,
   "metadata": {},
   "outputs": [
    {
     "data": {
      "image/png": "[encoded data removed]",
      "text/plain": [
       "<Figure size 432x288 with 1 Axes>"
      ]
     },
     "metadata": {
      "needs_background": "light"
     },
     "output_type": "display_data"
    }
   ],
   "source": [
    "x1 = np.array(X_norm[:,0])\n",
    "x2 = np.array(X_norm[:,1])\n",
    "\n",
    "fig, ax = plt.subplots()\n",
    "ax.scatter(x1,x2)\n",
    "ax.set(xlabel='Seats count', ylabel='Distance range (km)',\n",
    "       title='Aircrafts')\n",
    "ax.grid()\n",
    "plt.show()"
   ]
  },
  {
   "cell_type": "markdown",
   "metadata": {},
   "source": [
    "The ``data_set`` variable is used in all further examples. We can store it in this notebook and restore it in each next notebook. This reduce the amount of code that needs to be written."
   ]
  },
  {
   "cell_type": "code",
   "execution_count": 6,
   "metadata": {},
   "outputs": [
    {
     "name": "stdout",
     "output_type": "stream",
     "text": [
      "Stored 'data_set' (ndarray)\n"
     ]
    }
   ],
   "source": [
    "data_set = X_norm\n",
    "%store data_set"
   ]
  }
 ],
 "metadata": {
  "kernelspec": {
   "display_name": "Python 3",
   "language": "python",
   "name": "python3"
  },
  "language_info": {
   "codemirror_mode": {
    "name": "ipython",
    "version": 3
   },
   "file_extension": ".py",
   "mimetype": "text/x-python",
   "name": "python",
   "nbconvert_exporter": "python",
   "pygments_lexer": "ipython3",
   "version": "3.6.8"
  }
 },
 "nbformat": 4,
 "nbformat_minor": 2
}
